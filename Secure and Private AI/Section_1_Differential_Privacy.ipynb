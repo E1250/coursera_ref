{
  "cells": [
    {
      "cell_type": "markdown",
      "metadata": {
        "id": "view-in-github",
        "colab_type": "text"
      },
      "source": [
        "<a href=\"https://colab.research.google.com/github/E1250/courses_ref/blob/main/Secure%20and%20Private%20AI/Section_1_Differential_Privacy.ipynb\" target=\"_parent\"><img src=\"https://colab.research.google.com/assets/colab-badge.svg\" alt=\"Open In Colab\"/></a>"
      ]
    },
    {
      "cell_type": "markdown",
      "metadata": {
        "id": "HEsV1MwRfxHl"
      },
      "source": [
        "## Lesson: Toy Differential Privacy - Simple Database Queries"
      ]
    },
    {
      "cell_type": "markdown",
      "metadata": {
        "id": "N07NLyUnfxHn"
      },
      "source": [
        "In this section we're going to play around with Differential Privacy in the context of a database query. The database is going to be a VERY simple database with only one boolean column. Each row corresponds to a person. Each value corresponds to whether or not that person has a certain private attribute (such as whether they have a certain disease, or whether they are above/below a certain age). We are then going to learn how to know whether a database query over such a small database is differentially private or not - and more importantly - what techniques are at our disposal to ensure various levels of privacy\n",
        "\n",
        "\n",
        "### First We Create a Simple Database\n",
        "\n",
        "Step one is to create our database - we're going to do this by initializing a random list of 1s and 0s (which are the entries in our database). Note - the number of entries directly corresponds to the number of people in our database."
      ]
    },
    {
      "cell_type": "code",
      "execution_count": null,
      "metadata": {
        "id": "ItPTg_mDfxHn",
        "outputId": "2a2774c4-ea88-423d-9071-6108725f6f9e",
        "colab": {
          "base_uri": "https://localhost:8080/"
        }
      },
      "outputs": [
        {
          "output_type": "execute_result",
          "data": {
            "text/plain": [
              "tensor([ True,  True, False,  ...,  True, False,  True])"
            ]
          },
          "metadata": {},
          "execution_count": 1
        }
      ],
      "source": [
        "import torch\n",
        "\n",
        "# the number of entries in our database\n",
        "num_entries = 5000\n",
        "\n",
        "db = torch.rand(num_entries) > 0.5\n",
        "db"
      ]
    },
    {
      "cell_type": "markdown",
      "metadata": {
        "id": "mQir8MH8fxHp"
      },
      "source": [
        "## Project: Generate Parallel Databases\n",
        "\n",
        "Key to the definition of differenital privacy is the ability to ask the question \"When querying a database, if I removed someone from the database, would the output of the query be any different?\". Thus, in order to check this, we must construct what we term \"parallel databases\" which are simply databases with one entry removed.\n",
        "\n",
        "In this first project, I want you to create a list of every parallel database to the one currently contained in the \"db\" variable. Then, I want you to create a function which both:\n",
        "\n",
        "- creates the initial database (db)\n",
        "- creates all parallel databases"
      ]
    },
    {
      "cell_type": "code",
      "execution_count": null,
      "metadata": {
        "id": "WPmxLXu4fxHp",
        "outputId": "f3efc8b8-e264-43c6-9665-472341218c3b"
      },
      "outputs": [
        {
          "data": {
            "text/plain": [
              "tensor([1, 1, 0,  ..., 1, 1, 1], dtype=torch.uint8)"
            ]
          },
          "execution_count": 2,
          "metadata": {},
          "output_type": "execute_result"
        }
      ],
      "source": [
        "db = torch.rand(num_entries) > 0.5\n",
        "db"
      ]
    },
    {
      "cell_type": "code",
      "execution_count": null,
      "metadata": {
        "id": "IQxrMbNJfxHp"
      },
      "outputs": [],
      "source": [
        "def get_parallel_db(db, remove_index):\n",
        "\n",
        "    return torch.cat((db[0:remove_index],\n",
        "                      db[remove_index+1:]))\n",
        "\n",
        "get_parallel_db(db , 0).shape"
      ]
    },
    {
      "cell_type": "code",
      "execution_count": null,
      "metadata": {
        "id": "1k5iS_EkfxHq",
        "outputId": "3b499f02-ef72-446a-b68b-27d364d1cde6"
      },
      "outputs": [
        {
          "data": {
            "text/plain": [
              "tensor([1, 1, 0,  ..., 1, 1, 1], dtype=torch.uint8)"
            ]
          },
          "execution_count": 4,
          "metadata": {},
          "output_type": "execute_result"
        }
      ],
      "source": [
        "get_parallel_db(db, 52352)"
      ]
    },
    {
      "cell_type": "code",
      "execution_count": null,
      "metadata": {
        "id": "br_ig7psfxHq"
      },
      "outputs": [],
      "source": [
        "def get_parallel_dbs(db):\n",
        "\n",
        "    parallel_dbs = list()\n",
        "\n",
        "    for i in range(len(db)):\n",
        "        pdb = get_parallel_db(db, i)\n",
        "        parallel_dbs.append(pdb)\n",
        "\n",
        "    return parallel_dbs\n",
        "\n",
        "pdbs = get_parallel_dbs(db)\n",
        "pdbs"
      ]
    },
    {
      "cell_type": "code",
      "execution_count": null,
      "metadata": {
        "id": "xLmCz1rIfxHr"
      },
      "outputs": [],
      "source": [
        "def create_db_and_parallels(num_entries):\n",
        "\n",
        "    db = torch.rand(num_entries) > 0.5\n",
        "    pdbs = get_parallel_dbs(db)\n",
        "\n",
        "    return db, pdbs\n",
        "\n",
        "create_db_and_parallels(20)[:1]"
      ]
    },
    {
      "cell_type": "code",
      "execution_count": null,
      "metadata": {
        "id": "8wFhubXKfxHr"
      },
      "outputs": [],
      "source": [
        "db, pdbs = create_db_and_parallels(20)"
      ]
    },
    {
      "cell_type": "markdown",
      "metadata": {
        "id": "WQspK4zHfxHr"
      },
      "source": [
        "# Lesson: Towards Evaluating The Differential Privacy of a Function\n",
        "\n",
        "Intuitively, we want to be able to query our database and evaluate whether or not the result of the query is leaking \"private\" information. As mentioned previously, this is about evaluating whether the output of a query changes when we remove someone from the database. Specifically, we want to evaluate the *maximum* amount the query changes when someone is removed (maximum over all possible people who could be removed). So, in order to evaluate how much privacy is leaked, we're going to iterate over each person in the database and measure the difference in the output of the query relative to when we query the entire database.\n",
        "\n",
        "Just for the sake of argument, let's make our first \"database query\" a simple sum. Aka, we're going to count the number of 1s in the database."
      ]
    },
    {
      "cell_type": "code",
      "execution_count": null,
      "metadata": {
        "id": "3xZnf5oPfxHr"
      },
      "outputs": [],
      "source": [
        "db, pdbs = create_db_and_parallels(5000)"
      ]
    },
    {
      "cell_type": "code",
      "execution_count": null,
      "metadata": {
        "id": "pHxBcViMfxHr"
      },
      "outputs": [],
      "source": [
        "def query(db):\n",
        "    return db.sum()"
      ]
    },
    {
      "cell_type": "code",
      "execution_count": null,
      "metadata": {
        "id": "jembJ1AhfxHs"
      },
      "outputs": [],
      "source": [
        "full_db_result = query(db)"
      ]
    },
    {
      "cell_type": "code",
      "execution_count": null,
      "metadata": {
        "id": "kSNryEGwfxHs"
      },
      "outputs": [],
      "source": [
        "sensitivity = 0\n",
        "for pdb in pdbs:\n",
        "    pdb_result = query(pdb)\n",
        "\n",
        "    db_distance = torch.abs(pdb_result - full_db_result)\n",
        "\n",
        "    if(db_distance > sensitivity):\n",
        "        sensitivity = db_distance"
      ]
    },
    {
      "cell_type": "code",
      "execution_count": null,
      "metadata": {
        "id": "jK6O8SdTfxHs",
        "outputId": "edf05126-4f5e-4a94-bc8e-949fd737479c"
      },
      "outputs": [
        {
          "data": {
            "text/plain": [
              "tensor(1)"
            ]
          },
          "execution_count": 13,
          "metadata": {},
          "output_type": "execute_result"
        }
      ],
      "source": [
        "sensitivity"
      ]
    },
    {
      "cell_type": "markdown",
      "metadata": {
        "id": "D7p8QGFVfxHs"
      },
      "source": [
        "# Project - Evaluating the Privacy of a Function\n",
        "\n",
        "In the last section, we measured the difference between each parallel db's query result and the query result for the entire database and then calculated the max value (which was 1). This value is called \"sensitivity\", and it corresponds to the function we chose for the query. Namely, the \"sum\" query will always have a sensitivity of exactly 1. However, we can also calculate sensitivity for other functions as well.\n",
        "\n",
        "Let's try to calculate sensitivity for the \"mean\" function."
      ]
    },
    {
      "cell_type": "code",
      "execution_count": null,
      "metadata": {
        "id": "0ybRMyZQfxHs"
      },
      "outputs": [],
      "source": [
        "def query(db):\n",
        "    return db.float().mean()"
      ]
    },
    {
      "cell_type": "code",
      "execution_count": null,
      "metadata": {
        "id": "yPsJtwtZfxHs"
      },
      "outputs": [],
      "source": [
        "def sensitivity(query, n_entries=1000):\n",
        "\n",
        "    db, pdbs = create_db_and_parallels(n_entries)\n",
        "\n",
        "    full_db_result = query(db)\n",
        "\n",
        "    max_distance = 0\n",
        "    for pdb in pdbs:\n",
        "        pdb_result = query(pdb)\n",
        "\n",
        "        db_distance = torch.abs(pdb_result - full_db_result)\n",
        "\n",
        "        if(db_distance > max_distance):\n",
        "            max_distance = db_distance\n",
        "\n",
        "    return max_distance"
      ]
    },
    {
      "cell_type": "code",
      "execution_count": null,
      "metadata": {
        "id": "tLUJAS-vfxHs",
        "outputId": "19f24925-c886-4a28-ee72-19fa09718518"
      },
      "outputs": [
        {
          "data": {
            "text/plain": [
              "tensor(0.0005)"
            ]
          },
          "execution_count": 16,
          "metadata": {},
          "output_type": "execute_result"
        }
      ],
      "source": [
        "sensitivity(query)"
      ]
    },
    {
      "cell_type": "code",
      "execution_count": null,
      "metadata": {
        "id": "OBZc4gHGfxHt"
      },
      "outputs": [],
      "source": [
        "db, pdbs = create_db_and_parallels(20)"
      ]
    },
    {
      "cell_type": "code",
      "execution_count": null,
      "metadata": {
        "id": "kaDiEAKUfxHt",
        "outputId": "0b0a23b1-f7e2-4c3c-cbe3-80f1f7c5caa7"
      },
      "outputs": [
        {
          "data": {
            "text/plain": [
              "tensor([1, 1, 0, 0, 0, 1, 0, 1, 0, 0, 0, 0, 1, 0, 0, 0, 1, 0, 0, 0],\n",
              "       dtype=torch.uint8)"
            ]
          },
          "execution_count": 18,
          "metadata": {},
          "output_type": "execute_result"
        }
      ],
      "source": [
        "db"
      ]
    },
    {
      "cell_type": "markdown",
      "metadata": {
        "id": "atfOxejRfxHt"
      },
      "source": [
        "Wow! That sensitivity is WAY lower. Note the intuition here. \"Sensitivity\" is measuring how sensitive the output of the query is to a person being removed from the database. For a simple sum, this is always 1, but for the mean, removing a person is going to change the result of the query by rougly 1 divided by the size of the database (which is much smaller). Thus, \"mean\" is a VASTLY less \"sensitive\" function (query) than SUM."
      ]
    },
    {
      "cell_type": "markdown",
      "metadata": {
        "id": "yEBpTV-7fxHt"
      },
      "source": [
        "# Project: Calculate L1 Sensitivity For Threshold\n",
        "\n",
        "In this first project, I want you to calculate the sensitivty for the \"threshold\" function.\n",
        "\n",
        "- First compute the sum over the database (i.e. sum(db)) and return whether that sum is greater than a certain threshold.\n",
        "- Then, I want you to create databases of size 10 and threshold of 5 and calculate the sensitivity of the function.\n",
        "- Finally, re-initialize the database 10 times and calculate the sensitivity each time."
      ]
    },
    {
      "cell_type": "code",
      "execution_count": null,
      "metadata": {
        "id": "mMMrfkzafxHt"
      },
      "outputs": [],
      "source": [
        "def query(db, threshold=5):\n",
        "    return (db.sum() > threshold).float()"
      ]
    },
    {
      "cell_type": "code",
      "source": [
        "db, pdbs = create_db_and_parallels(10)\n",
        "db.sum()"
      ],
      "metadata": {
        "id": "0IBEH30rgYAz"
      },
      "execution_count": null,
      "outputs": []
    },
    {
      "cell_type": "code",
      "execution_count": null,
      "metadata": {
        "id": "J-rAOSqsfxHt",
        "outputId": "72d87f5e-11a6-45be-b67f-c62522d529d1"
      },
      "outputs": [
        {
          "name": "stdout",
          "output_type": "stream",
          "text": [
            "0\n",
            "tensor(1.)\n",
            "0\n",
            "0\n",
            "0\n",
            "0\n",
            "0\n",
            "0\n",
            "0\n",
            "0\n"
          ]
        }
      ],
      "source": [
        "for i in range(10):\n",
        "    sens_f = sensitivity(query, n_entries=10)\n",
        "    print(sens_f)"
      ]
    },
    {
      "cell_type": "markdown",
      "metadata": {
        "id": "4dh7D09BfxHt"
      },
      "source": [
        "# Lesson: A Basic Differencing Attack\n",
        "\n",
        "Sadly none of the functions we've looked at so far are differentially private (despite them having varying levels of sensitivity). The most basic type of attack can be done as follows.\n",
        "\n",
        "Let's say we wanted to figure out a specific person's value in the database. All we would have to do is query for the sum of the entire database and then the sum of the entire database without that person!\n",
        "\n",
        "# Project: Perform a Differencing Attack on Row 10\n",
        "\n",
        "In this project, I want you to construct a database and then demonstrate how you can use two different sum queries to explose the value of the person represented by row 10 in the database (note, you'll need to use a database with at least 10 rows)"
      ]
    },
    {
      "cell_type": "code",
      "execution_count": null,
      "metadata": {
        "id": "CCHpi4KafxHu"
      },
      "outputs": [],
      "source": [
        "db, _ = create_db_and_parallels(100)\n",
        "print(list(map(int,db)))"
      ]
    },
    {
      "cell_type": "code",
      "execution_count": null,
      "metadata": {
        "id": "lwv8pNXofxHu"
      },
      "outputs": [],
      "source": [
        "pdb = get_parallel_db(db, remove_index=10)\n",
        "print(list(map(int,pdb)))"
      ]
    },
    {
      "cell_type": "code",
      "execution_count": null,
      "metadata": {
        "id": "gTwTEZVcfxHu",
        "outputId": "bcba31af-2c87-438a-ad13-8f4b30ca285d"
      },
      "outputs": [
        {
          "data": {
            "text/plain": [
              "tensor(1, dtype=torch.uint8)"
            ]
          },
          "execution_count": 23,
          "metadata": {},
          "output_type": "execute_result"
        }
      ],
      "source": [
        "db[10]"
      ]
    },
    {
      "cell_type": "code",
      "execution_count": null,
      "metadata": {
        "id": "vGAQioqcfxHu",
        "outputId": "b09b4d46-41d8-4c09-ac3b-0287e8e6f924"
      },
      "outputs": [
        {
          "data": {
            "text/plain": [
              "tensor(51, dtype=torch.uint8)"
            ]
          },
          "execution_count": 24,
          "metadata": {},
          "output_type": "execute_result"
        }
      ],
      "source": [
        "sum(db)"
      ]
    },
    {
      "cell_type": "code",
      "execution_count": null,
      "metadata": {
        "id": "KlibeU1JfxHu",
        "outputId": "1ec17740-f6e5-4f33-ccf8-380c1770cc51"
      },
      "outputs": [
        {
          "data": {
            "text/plain": [
              "tensor(1, dtype=torch.uint8)"
            ]
          },
          "execution_count": 25,
          "metadata": {},
          "output_type": "execute_result"
        }
      ],
      "source": [
        "# differencing attack using sum query\n",
        "\n",
        "sum(db) - sum(pdb)"
      ]
    },
    {
      "cell_type": "code",
      "execution_count": null,
      "metadata": {
        "id": "oyYvshZffxHu",
        "outputId": "a5f2236f-10c6-49bb-d864-b059992ce86f"
      },
      "outputs": [
        {
          "data": {
            "text/plain": [
              "tensor(0.0049)"
            ]
          },
          "execution_count": 26,
          "metadata": {},
          "output_type": "execute_result"
        }
      ],
      "source": [
        "# differencing attack using mean query\n",
        "\n",
        "(sum(db).float() / len(db)) - (sum(pdb).float() / len(pdb))"
      ]
    },
    {
      "cell_type": "code",
      "execution_count": null,
      "metadata": {
        "id": "yMFrA0SSfxHu",
        "outputId": "12afeff9-7937-4140-f15c-6dd871cd0335"
      },
      "outputs": [
        {
          "data": {
            "text/plain": [
              "tensor(0, dtype=torch.uint8)"
            ]
          },
          "execution_count": 27,
          "metadata": {},
          "output_type": "execute_result"
        }
      ],
      "source": [
        "# differencing attack using threshold\n",
        "\n",
        "(sum(db).float() > 49) - (sum(pdb).float()  > 49)"
      ]
    },
    {
      "cell_type": "markdown",
      "metadata": {
        "id": "E1ah0zPMfxHu"
      },
      "source": [
        "# Project: Local Differential Privacy\n",
        "\n",
        "As you can see, the basic sum query is not differentially private at all! In truth, differential privacy always requires a form of randomness added to the query. Let me show you what I mean.\n",
        "\n",
        "### Randomized Response (Local Differential Privacy)\n",
        "\n",
        "Let's say I have a group of people I wish to survey about a very taboo behavior which I think they will lie about (say, I want to know if they have ever committed a certain kind of crime). I'm not a policeman, I'm just trying to collect statistics to understand the higher level trend in society. So, how do we do this? One technique is to add randomness to each person's response by giving each person the following instructions (assuming I'm asking a simple yes/no question):\n",
        "\n",
        "- Flip a coin 2 times.\n",
        "- If the first coin flip is heads, answer honestly\n",
        "- If the first coin flip is tails, answer according to the second coin flip (heads for yes, tails for no)!\n",
        "\n",
        "Thus, each person is now protected with \"plausible deniability\". If they answer \"Yes\" to the question \"have you committed X crime?\", then it might becasue they actually did, or it might be becasue they are answering according to a random coin flip. Each person has a high degree of protection. Furthermore, we can recover the underlying statistics with some accuracy, as the \"true statistics\" are simply averaged with a 50% probability. Thus, if we collect a bunch of samples and it turns out that 60% of people answer yes, then we know that the TRUE distribution is actually centered around 70%, because 70% averaged wtih 50% (a coin flip) is 60% which is the result we obtained.\n",
        "\n",
        "However, it should be noted that, especially when we only have a few samples, the this comes at the cost of accuracy. This tradeoff exists across all of Differential Privacy. The greater the privacy protection (plausible deniability) the less accurate the results.\n",
        "\n",
        "Let's implement this local DP for our database before!"
      ]
    },
    {
      "cell_type": "code",
      "execution_count": null,
      "metadata": {
        "id": "-LNd7NV5fxHv",
        "outputId": "05f47aef-5765-4609-8771-c5800587ca3b"
      },
      "outputs": [
        {
          "data": {
            "text/plain": [
              "tensor([0, 1, 0, 0, 1, 1, 1, 1, 1, 1, 1, 0, 1, 0, 1, 0, 1, 1, 0, 1, 0, 0, 0, 0,\n",
              "        1, 0, 1, 1, 1, 0, 0, 1, 0, 0, 1, 1, 0, 0, 0, 0, 1, 1, 0, 0, 1, 0, 0, 0,\n",
              "        0, 0, 1, 0, 1, 0, 1, 0, 1, 0, 0, 1, 0, 0, 1, 1, 1, 1, 1, 0, 1, 1, 0, 1,\n",
              "        0, 0, 0, 1, 1, 1, 1, 0, 1, 0, 1, 0, 1, 0, 1, 1, 0, 0, 1, 1, 0, 1, 0, 0,\n",
              "        0, 1, 1, 1], dtype=torch.uint8)"
            ]
          },
          "execution_count": 28,
          "metadata": {},
          "output_type": "execute_result"
        }
      ],
      "source": [
        "# actual values from people\n",
        "db"
      ]
    },
    {
      "cell_type": "code",
      "source": [
        "# Actual values from people\n",
        "db , pdbs = create_db_and_parallels(100)\n",
        "print(list(map(int,db))) # We will replace some of these values with random values."
      ],
      "metadata": {
        "id": "i0lChoOagk0d"
      },
      "execution_count": null,
      "outputs": []
    },
    {
      "cell_type": "code",
      "source": [
        "first_coin_flip = (torch.rand(len(db)) > 0.5).float()\n",
        "second_coin_flip = (torch.rand(len(db)) > 0.5).float()\n",
        "first_coin_flip"
      ],
      "metadata": {
        "id": "4RCo-JOhgnRe"
      },
      "execution_count": null,
      "outputs": []
    },
    {
      "cell_type": "code",
      "source": [
        "db.float() * first_coin_flip"
      ],
      "metadata": {
        "id": "SlAuqr00goo6"
      },
      "execution_count": null,
      "outputs": []
    },
    {
      "cell_type": "code",
      "source": [
        "(1 - first_coin_flip) * second_coin_flip"
      ],
      "metadata": {
        "id": "H5BVXr0sgohE"
      },
      "execution_count": null,
      "outputs": []
    },
    {
      "cell_type": "code",
      "source": [
        "augmented_database = db.float() * first_coin_flip + (1 - first_coin_flip) * second_coin_flip\n",
        "augmented_database"
      ],
      "metadata": {
        "id": "Q9zyI1efgoe8"
      },
      "execution_count": null,
      "outputs": []
    },
    {
      "cell_type": "code",
      "source": [
        "torch.mean(augmented_database.float())"
      ],
      "metadata": {
        "id": "Udx538spgocE"
      },
      "execution_count": null,
      "outputs": []
    },
    {
      "cell_type": "code",
      "source": [
        "db_result = torch.mean(augmented_database.float()) * 2 -0.5 # True output of the database\n",
        "db_result"
      ],
      "metadata": {
        "id": "KJh_iTM2gtDm"
      },
      "execution_count": null,
      "outputs": []
    },
    {
      "cell_type": "code",
      "source": [
        "true_result = torch.mean(db.float())\n",
        "true_result"
      ],
      "metadata": {
        "id": "9m6CC1wOgs8t"
      },
      "execution_count": null,
      "outputs": []
    },
    {
      "cell_type": "code",
      "execution_count": null,
      "metadata": {
        "id": "wvUz_WCRfxHv"
      },
      "outputs": [],
      "source": [
        "def query(db):\n",
        "\n",
        "    true_result = torch.mean(db.float())\n",
        "\n",
        "    first_coin_flip = (torch.rand(len(db)) < 0.5).float()\n",
        "    second_coin_flip = (torch.rand(len(db)) < 0.5).float()\n",
        "\n",
        "    augmented_database = db.float() * first_coin_flip + (1 - first_coin_flip) * second_coin_flip\n",
        "\n",
        "    db_result = torch.mean(augmented_database.float()) * 2 - 0.5\n",
        "\n",
        "    return db_result, true_result"
      ]
    },
    {
      "cell_type": "code",
      "execution_count": null,
      "metadata": {
        "id": "ZL7SsXGwfxHv",
        "outputId": "11ce2e9e-2a0a-4630-a7cd-dad51f01ae4b"
      },
      "outputs": [
        {
          "name": "stdout",
          "output_type": "stream",
          "text": [
            "With Noise:tensor(0.5000)\n",
            "Without Noise:tensor(0.6000)\n"
          ]
        }
      ],
      "source": [
        "db, pdbs = create_db_and_parallels(10)\n",
        "private_result, true_result = query(db)\n",
        "print(\"With Noise:\" + str(private_result))\n",
        "print(\"Without Noise:\" + str(true_result))"
      ]
    },
    {
      "cell_type": "code",
      "execution_count": null,
      "metadata": {
        "id": "OtKkmWVCfxHw",
        "outputId": "86b565f7-c7b1-44b0-c8b6-6dda4606caf8"
      },
      "outputs": [
        {
          "name": "stdout",
          "output_type": "stream",
          "text": [
            "With Noise:tensor(0.4400)\n",
            "Without Noise:tensor(0.5000)\n"
          ]
        }
      ],
      "source": [
        "db, pdbs = create_db_and_parallels(100)\n",
        "private_result, true_result = query(db)\n",
        "print(\"With Noise:\" + str(private_result))\n",
        "print(\"Without Noise:\" + str(true_result))"
      ]
    },
    {
      "cell_type": "code",
      "execution_count": null,
      "metadata": {
        "id": "m3CXA2IhfxHw",
        "outputId": "26fb7a0a-2fac-416d-a1f4-1f0a68de532b"
      },
      "outputs": [
        {
          "name": "stdout",
          "output_type": "stream",
          "text": [
            "With Noise:tensor(0.4840)\n",
            "Without Noise:tensor(0.5000)\n"
          ]
        }
      ],
      "source": [
        "db, pdbs = create_db_and_parallels(1000)\n",
        "private_result, true_result = query(db)\n",
        "print(\"With Noise:\" + str(private_result))\n",
        "print(\"Without Noise:\" + str(true_result))"
      ]
    },
    {
      "cell_type": "code",
      "execution_count": null,
      "metadata": {
        "id": "O9s0Vo56fxHw",
        "outputId": "1b99c481-b5a4-4ea4-d1c8-89c3e2cf04c1"
      },
      "outputs": [
        {
          "name": "stdout",
          "output_type": "stream",
          "text": [
            "With Noise:tensor(0.5156)\n",
            "Without Noise:tensor(0.5071)\n"
          ]
        }
      ],
      "source": [
        "db, pdbs = create_db_and_parallels(10000)\n",
        "private_result, true_result = query(db)\n",
        "print(\"With Noise:\" + str(private_result))\n",
        "print(\"Without Noise:\" + str(true_result))"
      ]
    },
    {
      "cell_type": "markdown",
      "metadata": {
        "id": "8FgEJrK2fxHw"
      },
      "source": [
        "# Project: Varying Amounts of Noise\n",
        "\n",
        "In this project, I want you to augment the randomized response query (the one we just wrote) to allow for varying amounts of randomness to be added. Specifically, I want you to bias the coin flip to be higher or lower and then run the same experiment.\n",
        "\n",
        "Note - this one is a bit tricker than you might expect. You need to both adjust the likelihood of the first coin flip AND the de-skewing at the end (where we create the \"augmented_result\" variable)."
      ]
    },
    {
      "cell_type": "code",
      "source": [
        "def query(db , noise = 0.2):\n",
        "  true_result = torch.mean(db.float())\n",
        "\n",
        "  first_coin_flip = (torch.rand(len(db)) > noise).float()\n",
        "  second_coin_flip = (torch.rand(len(db)) > 0.5).float()\n",
        "\n",
        "  augmented_database = db.float() * first_coin_flip + (1 - first_coin_flip) * second_coin_flip\n",
        "\n",
        "  db_result = torch.mean(augmented_database.float()) * 2 - 0.5\n",
        "\n",
        "  return db_result , true_result"
      ],
      "metadata": {
        "id": "r7o3yDrzg9sp"
      },
      "execution_count": null,
      "outputs": []
    },
    {
      "cell_type": "code",
      "source": [
        "true_dist_mean = 0.7 # 70% of people said YES\n",
        "noise_dist_mean = 0.5 # 50/50 coin flip"
      ],
      "metadata": {
        "id": "YH9Opgmdg9jK"
      },
      "execution_count": null,
      "outputs": []
    },
    {
      "cell_type": "code",
      "source": [
        "augmented_database_mean = (true_dist_mean + noise_dist_mean) / 2\n",
        "augmented_database_mean"
      ],
      "metadata": {
        "id": "b6jHxFrDg9g_"
      },
      "execution_count": null,
      "outputs": []
    },
    {
      "cell_type": "code",
      "source": [
        "noise = 0.2\n",
        "true_result = torch.mean(db.float())\n",
        "\n",
        "first_coin_flip = (torch.rand(len(db)) > noise).float()\n",
        "second_coin_flip = (torch.rand(len(db)) > 0.5).float()\n",
        "\n",
        "augmented_database = db.float() * first_coin_flip + (1 - first_coin_flip) * second_coin_flip\n",
        "\n",
        "sk_result = augmented_database.float().mean()\n",
        "sk_result"
      ],
      "metadata": {
        "id": "rOAL2KAEg9e0"
      },
      "execution_count": null,
      "outputs": []
    },
    {
      "cell_type": "code",
      "source": [
        "noise = 0.5 # 50/50 First coin flip\n",
        "\n",
        "true_dist_mean = 0.7 # 70% of people said YES\n",
        "noise_dist_mean = 0.5 # 50/50 coin flip"
      ],
      "metadata": {
        "id": "QA8VSry6g9cV"
      },
      "execution_count": null,
      "outputs": []
    },
    {
      "cell_type": "code",
      "source": [
        "private_result = ((sk_result / noise) - 0.5) * noise / (1-noise)\n",
        "private_result , sk_result"
      ],
      "metadata": {
        "id": "pfGf4fObhD84"
      },
      "execution_count": null,
      "outputs": []
    },
    {
      "cell_type": "code",
      "source": [
        "augmented_database_mean = (true_dist_mean * noise)  + (noise_dist_mean * (1 - noise))\n",
        "augmented_database_mean"
      ],
      "metadata": {
        "id": "mabw9pXShD1p"
      },
      "execution_count": null,
      "outputs": []
    },
    {
      "cell_type": "code",
      "execution_count": null,
      "metadata": {
        "id": "9wec7bc8fxHw"
      },
      "outputs": [],
      "source": [
        "def query(db, noise=0.2):\n",
        "\n",
        "    true_result = torch.mean(db.float())\n",
        "\n",
        "    first_coin_flip = (torch.rand(len(db)) < noise).float()\n",
        "    second_coin_flip = (torch.rand(len(db)) < 0.5).float()\n",
        "\n",
        "    augmented_database = db.float() * first_coin_flip + (1 - first_coin_flip) * second_coin_flip\n",
        "\n",
        "    sk_result = augmented_database.float().mean()\n",
        "\n",
        "    private_result = ((sk_result / noise) - 0.5) * noise / (1 - noise)\n",
        "\n",
        "    return private_result, true_result"
      ]
    },
    {
      "cell_type": "code",
      "execution_count": null,
      "metadata": {
        "id": "EtTsvXQ4fxHw",
        "outputId": "00e94521-bf89-4d77-c169-7a1f6e962797"
      },
      "outputs": [
        {
          "name": "stdout",
          "output_type": "stream",
          "text": [
            "With Noise:tensor(0.5778)\n",
            "Without Noise:tensor(0.5300)\n"
          ]
        }
      ],
      "source": [
        "db, pdbs = create_db_and_parallels(100)\n",
        "private_result, true_result = query(db, noise=0.1)\n",
        "print(\"With Noise:\" + str(private_result))\n",
        "print(\"Without Noise:\" + str(true_result))"
      ]
    },
    {
      "cell_type": "code",
      "execution_count": null,
      "metadata": {
        "id": "p2lJjlXGfxHw",
        "outputId": "a41ba408-7ae5-4a1a-ee5a-93f0fe6a26f8"
      },
      "outputs": [
        {
          "name": "stdout",
          "output_type": "stream",
          "text": [
            "With Noise:tensor(0.5750)\n",
            "Without Noise:tensor(0.4300)\n"
          ]
        }
      ],
      "source": [
        "db, pdbs = create_db_and_parallels(100)\n",
        "private_result, true_result = query(db, noise=0.2)\n",
        "print(\"With Noise:\" + str(private_result))\n",
        "print(\"Without Noise:\" + str(true_result))"
      ]
    },
    {
      "cell_type": "code",
      "execution_count": null,
      "metadata": {
        "id": "HQLo3Nk7fxHx",
        "outputId": "8c427345-b60e-478d-fc19-20e5d2326dc8"
      },
      "outputs": [
        {
          "name": "stdout",
          "output_type": "stream",
          "text": [
            "With Noise:tensor(0.4500)\n",
            "Without Noise:tensor(0.5300)\n"
          ]
        }
      ],
      "source": [
        "db, pdbs = create_db_and_parallels(100)\n",
        "private_result, true_result = query(db, noise=0.4)\n",
        "print(\"With Noise:\" + str(private_result))\n",
        "print(\"Without Noise:\" + str(true_result))"
      ]
    },
    {
      "cell_type": "code",
      "execution_count": null,
      "metadata": {
        "id": "Lf4VGGmJfxHx",
        "outputId": "d183d7a9-5569-45f6-b781-fbeddfccca4a"
      },
      "outputs": [
        {
          "name": "stdout",
          "output_type": "stream",
          "text": [
            "With Noise:tensor(0.7000)\n",
            "Without Noise:tensor(0.5400)\n"
          ]
        }
      ],
      "source": [
        "db, pdbs = create_db_and_parallels(100)\n",
        "private_result, true_result = query(db, noise=0.8)\n",
        "print(\"With Noise:\" + str(private_result))\n",
        "print(\"Without Noise:\" + str(true_result))"
      ]
    },
    {
      "cell_type": "code",
      "execution_count": null,
      "metadata": {
        "id": "naD6biM-fxHx",
        "outputId": "1a2f9dbf-36b7-489e-f97d-81d5bffc8200"
      },
      "outputs": [
        {
          "name": "stdout",
          "output_type": "stream",
          "text": [
            "With Noise:tensor(0.4770)\n",
            "Without Noise:tensor(0.4984)\n"
          ]
        }
      ],
      "source": [
        "db, pdbs = create_db_and_parallels(10000)\n",
        "private_result, true_result = query(db, noise=0.8)\n",
        "print(\"With Noise:\" + str(private_result))\n",
        "print(\"Without Noise:\" + str(true_result))"
      ]
    },
    {
      "cell_type": "markdown",
      "metadata": {
        "id": "ukleUrFDfxHx"
      },
      "source": [
        "# Lesson: The Formal Definition of Differential Privacy\n",
        "\n",
        "The previous method of adding noise was called \"Local Differentail Privacy\" because we added noise to each datapoint individually. This is necessary for some situations wherein the data is SO sensitive that individuals do not trust noise to be added later. However, it comes at a very high cost in terms of accuracy.\n",
        "\n",
        "However, alternatively we can add noise AFTER data has been aggregated by a function. This kind of noise can allow for similar levels of protection with a lower affect on accuracy. However, participants must be able to trust that no-one looked at their datapoints _before_ the aggregation took place. In some situations this works out well, in others (such as an individual hand-surveying a group of people), this is less realistic.\n",
        "\n",
        "Nevertheless, global differential privacy is incredibly important because it allows us to perform differential privacy on smaller groups of individuals with lower amounts of noise. Let's revisit our sum functions."
      ]
    },
    {
      "cell_type": "code",
      "execution_count": null,
      "metadata": {
        "id": "HI-fQm37fxHx",
        "outputId": "4554a010-1603-4d7e-ab0f-d486933c8bb8"
      },
      "outputs": [
        {
          "data": {
            "text/plain": [
              "tensor(51.)"
            ]
          },
          "execution_count": 49,
          "metadata": {},
          "output_type": "execute_result"
        }
      ],
      "source": [
        "db, pdbs = create_db_and_parallels(100)\n",
        "\n",
        "def query(db):\n",
        "    # return torch.sum(db.float() + noise) # Local\n",
        "    # return torch.sum(db.float()) + noise # Global\n",
        "    return torch.sum(db.float())\n",
        "\n",
        "def M(db):\n",
        "    query(db) + noise\n",
        "\n",
        "query(db)"
      ]
    },
    {
      "cell_type": "markdown",
      "metadata": {
        "id": "6FGXpF94fxHx"
      },
      "source": [
        "So the idea here is that we want to add noise to the output of our function. We actually have two different kinds of noise we can add - Laplacian Noise or Gaussian Noise. However, before we do so at this point we need to dive into the formal definition of Differential Privacy.\n",
        "\n",
        "![image.png](data:image/png;base64,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)"
      ]
    },
    {
      "cell_type": "markdown",
      "metadata": {
        "id": "aFlbExKkfxHy"
      },
      "source": [
        "_Image From: \"The Algorithmic Foundations of Differential Privacy\" - Cynthia Dwork and Aaron Roth - https://www.cis.upenn.edu/~aaroth/Papers/privacybook.pdf_"
      ]
    },
    {
      "cell_type": "markdown",
      "metadata": {
        "id": "t95HAaOOfxHy"
      },
      "source": [
        "This definition does not _create_ differential privacy, instead it is a measure of how much privacy is afforded by a query M. Specifically, it's a comparison between running the query M on a database (x) and a parallel database (y). As you remember, parallel databases are defined to be the same as a full database (x) with one entry/person removed.\n",
        "\n",
        "Thus, this definition says that FOR ALL parallel databases, the maximum distance between a query on database (x) and the same query on database (y) will be e^epsilon, but that occasionally this constraint won't hold with probability delta. Thus, this theorem is called \"epsilon delta\" differential privacy.\n",
        "\n",
        "# Epsilon\n",
        "\n",
        "Let's unpack the intuition of this for a moment.\n",
        "\n",
        "Epsilon Zero: If a query satisfied this inequality where epsilon was set to 0, then that would mean that the query for all parallel databases outputed the exact same value as the full database. As you may remember, when we calculated the \"threshold\" function, often the Sensitivity was 0. In that case, the epsilon also happened to be zero.\n",
        "\n",
        "Epsilon One: If a query satisfied this inequality with epsilon 1, then the maximum distance between all queries would be 1 - or more precisely - the maximum distance between the two random distributions M(x) and M(y) is 1 (because all these queries have some amount of randomness in them, just like we observed in the last section).\n",
        "\n",
        "# Delta\n",
        "\n",
        "Delta is basically the probability that epsilon breaks. Namely, sometimes the epsilon is different for some queries than it is for others. For example, you may remember when we were calculating the sensitivity of threshold, most of the time sensitivity was 0 but sometimes it was 1. Thus, we could calculate this as \"epsilon zero but non-zero delta\" which would say that epsilon is perfect except for some probability of the time when it's arbitrarily higher. Note that this expression doesn't represent the full tradeoff between epsilon and delta."
      ]
    },
    {
      "cell_type": "markdown",
      "metadata": {
        "id": "jWIGb_GafxHy"
      },
      "source": [
        "# Lesson: How To Add Noise for Global Differential Privacy\n",
        "\n",
        "In this lesson, we're going to learn about how to take a query and add varying amounts of noise so that it satisfies a certain degree of differential privacy. In particular, we're going to leave behind the Local Differential privacy previously discussed and instead opt to focus on Global differential privacy.\n",
        "\n",
        "So, to sum up, this lesson is about adding noise to the output of our query so that it satisfies a certain epsilon-delta differential privacy threshold.\n",
        "\n",
        "There are two kinds of noise we can add - Gaussian Noise or Laplacian Noise. Generally speaking Laplacian is better, but both are still valid. Now to the hard question...\n",
        "\n",
        "### How much noise should we add?\n",
        "\n",
        "The amount of noise necessary to add to the output of a query is a function of four things:\n",
        "\n",
        "- the type of noise (Gaussian/Laplacian)\n",
        "- the sensitivity of the query/function\n",
        "- the desired epsilon (ε)\n",
        "- the desired delta (δ)\n",
        "\n",
        "Thus, for each type of noise we're adding, we have different way of calculating how much to add as a function of sensitivity, epsilon, and delta. We're going to focus on Laplacian noise. Laplacian noise is increased/decreased according to a \"scale\" parameter b. We choose \"b\" based on the following formula.\n",
        "\n",
        "b = sensitivity(query) / epsilon\n",
        "\n",
        "In other words, if we set b to be this value, then we know that we will have a privacy leakage of <= epsilon. Furthermore, the nice thing about Laplace is that it guarantees this with delta == 0. There are some tunings where we can have very low epsilon where delta is non-zero, but we'll ignore them for now.\n",
        "\n",
        "### Querying Repeatedly\n",
        "\n",
        "- if we query the database multiple times - we can simply add the epsilons (Even if we change the amount of noise and their epsilons are not the same)."
      ]
    },
    {
      "cell_type": "code",
      "execution_count": null,
      "metadata": {
        "id": "TiDgsn5MfxHy"
      },
      "outputs": [],
      "source": []
    },
    {
      "cell_type": "markdown",
      "metadata": {
        "id": "bsy94wKlfxHz"
      },
      "source": [
        "# Project: Create a Differentially Private Query\n",
        "\n",
        "In this project, I want you to take what you learned in the previous lesson and create a query function which sums over the database and adds just the right amount of noise such that it satisfies an epsilon constraint. Write a query for both \"sum\" and for \"mean\". Ensure that you use the correct sensitivity measures for both."
      ]
    },
    {
      "cell_type": "code",
      "execution_count": null,
      "metadata": {
        "id": "LM7NxbssfxHz"
      },
      "outputs": [],
      "source": [
        "epsilon = 0.0001"
      ]
    },
    {
      "cell_type": "code",
      "execution_count": null,
      "metadata": {
        "id": "1bozTBOmfxHz"
      },
      "outputs": [],
      "source": [
        "import numpy as np"
      ]
    },
    {
      "cell_type": "code",
      "execution_count": null,
      "metadata": {
        "id": "3wmZMVyOfxHz"
      },
      "outputs": [],
      "source": [
        "db, pdbs = create_db_and_parallels(100)\n",
        "db"
      ]
    },
    {
      "cell_type": "code",
      "source": [
        "sum(db)"
      ],
      "metadata": {
        "id": "eudTb7N4k6wd"
      },
      "execution_count": null,
      "outputs": []
    },
    {
      "cell_type": "code",
      "source": [
        "sum(db * 2)"
      ],
      "metadata": {
        "id": "oH0kDUaRlCZW"
      },
      "execution_count": null,
      "outputs": []
    },
    {
      "cell_type": "code",
      "execution_count": null,
      "metadata": {
        "id": "TKQfGPPqfxHz"
      },
      "outputs": [],
      "source": [
        "def laplacian_mechanism(db, query, sensitivity):\n",
        "\n",
        "    beta = sensitivity / epsilon\n",
        "    noise = torch.tensor(np.random.laplace(0, beta , 1))\n",
        "\n",
        "    return query(db) + noise"
      ]
    },
    {
      "cell_type": "code",
      "execution_count": null,
      "metadata": {
        "id": "GO9u4Kw8fxHz"
      },
      "outputs": [],
      "source": [
        "def sum_query(db):\n",
        "    return db.sum()"
      ]
    },
    {
      "cell_type": "code",
      "source": [
        "sum_query(db)"
      ],
      "metadata": {
        "id": "dFIbZM9jljHz"
      },
      "execution_count": null,
      "outputs": []
    },
    {
      "cell_type": "code",
      "execution_count": null,
      "metadata": {
        "id": "ScJjUyEvfxH0",
        "outputId": "f41318ff-2cc0-42bc-bafd-eb9135034c18"
      },
      "outputs": [
        {
          "data": {
            "text/plain": [
              "tensor([11776.3944], dtype=torch.float64)"
            ]
          },
          "execution_count": 56,
          "metadata": {},
          "output_type": "execute_result"
        }
      ],
      "source": [
        "laplacian_mechanism(db, sum_query, 1)"
      ]
    },
    {
      "cell_type": "code",
      "execution_count": null,
      "metadata": {
        "id": "Aau1amVNfxHz"
      },
      "outputs": [],
      "source": [
        "def mean_query(db):\n",
        "    return torch.mean(db.float())"
      ]
    },
    {
      "cell_type": "code",
      "execution_count": null,
      "metadata": {
        "id": "z3zsKb4xfxH0",
        "outputId": "267c1fcb-edd5-4a10-e219-c1d32875c7ce"
      },
      "outputs": [
        {
          "data": {
            "text/plain": [
              "tensor([-10.7032], dtype=torch.float64)"
            ]
          },
          "execution_count": 57,
          "metadata": {},
          "output_type": "execute_result"
        }
      ],
      "source": [
        "laplacian_mechanism(db, mean_query, 1/100)"
      ]
    },
    {
      "cell_type": "markdown",
      "metadata": {
        "id": "62YUC0RkfxH0"
      },
      "source": [
        "# Lesson: Differential Privacy for Deep Learning\n",
        "\n",
        "So in the last lessons you may have been wondering - what does all of this have to do with Deep Learning? Well, these same techniques we were just studying form the core primitives for how Differential Privacy provides guarantees in the context of Deep Learning.\n",
        "\n",
        "Previously, we defined perfect privacy as \"a query to a database returns the same value even if we remove any person from the database\", and used this intuition in the description of epsilon/delta. In the context of deep learning we have a similar standard.\n",
        "\n",
        "Training a model on a dataset should return the same model even if we remove any person from the dataset.\n",
        "\n",
        "Thus, we've replaced \"querying a database\" with \"training a model on a dataset\". In essence, the training process is a kind of query. However, one should note that this adds two points of complexity which database queries did not have:\n",
        "\n",
        "    1. do we always know where \"people\" are referenced in the dataset?\n",
        "    2. neural models rarely never train to the same output model, even on identical data\n",
        "\n",
        "The answer to (1) is to treat each training example as a single, separate person. Strictly speaking, this is often overly zealous as some training examples have no relevance to people and others may have multiple/partial (consider an image with multiple people contained within it). Thus, localizing exactly where \"people\" are referenced, and thus how much your model would change if people were removed, is challenging.\n",
        "\n",
        "The answer to (2) is also an open problem - but several interesitng proposals have been made. We're going to focus on one of the most popular proposals, PATE.\n",
        "\n",
        "## An Example Scenario: A Health Neural Network\n",
        "\n",
        "First we're going to consider a scenario - you work for a hospital and you have a large collection of images about your patients. However, you don't know what's in them. You would like to use these images to develop a neural network which can automatically classify them, however since your images aren't labeled, they aren't sufficient to train a classifier.\n",
        "\n",
        "However, being a cunning strategist, you realize that you can reach out to 10 partner hospitals which DO have annotated data. It is your hope to train your new classifier on their datasets so that you can automatically label your own. While these hospitals are interested in helping, they have privacy concerns regarding information about their patients. Thus, you will use the following technique to train a classifier which protects the privacy of patients in the other hospitals.\n",
        "\n",
        "- 1) You'll ask each of the 10 hospitals to train a model on their own datasets (All of which have the same kinds of labels)\n",
        "- 2) You'll then use each of the 10 partner models to predict on your local dataset, generating 10 labels for each of your datapoints\n",
        "- 3) Then, for each local data point (now with 10 labels), you will perform a DP query to generate the final true label. This query is a \"max\" function, where \"max\" is the most frequent label across the 10 labels. We will need to add laplacian noise to make this Differentially Private to a certain epsilon/delta constraint.\n",
        "- 4) Finally, we will retrain a new model on our local dataset which now has labels. This will be our final \"DP\" model.\n",
        "\n",
        "So, let's walk through these steps. I will assume you're already familiar with how to train/predict a deep neural network, so we'll skip steps 1 and 2 and work with example data. We'll focus instead on step 3, namely how to perform the DP query for each example using toy data.\n",
        "\n",
        "So, let's say we have 10,000 training examples, and we've got 10 labels for each example (from our 10 \"teacher models\" which were trained directly on private data). Each label is chosen from a set of 10 possible labels (categories) for each image."
      ]
    },
    {
      "cell_type": "code",
      "execution_count": 1,
      "metadata": {
        "id": "xyrDKyP9fxH0"
      },
      "outputs": [],
      "source": [
        "import numpy as np"
      ]
    },
    {
      "cell_type": "code",
      "execution_count": 2,
      "metadata": {
        "id": "iB_5OovvfxH0"
      },
      "outputs": [],
      "source": [
        "num_teachers = 10 # we're working with 10 partner hospitals\n",
        "num_examples = 10000 # the size of OUR dataset\n",
        "num_labels = 10 # number of lablels for our classifier"
      ]
    },
    {
      "cell_type": "code",
      "execution_count": 3,
      "metadata": {
        "id": "fSr4E3t-fxH0",
        "colab": {
          "base_uri": "https://localhost:8080/"
        },
        "outputId": "6ff665ba-2655-4f3d-9c6f-4084688fbe7f"
      },
      "outputs": [
        {
          "output_type": "execute_result",
          "data": {
            "text/plain": [
              "array([[9, 9, 2, ..., 0, 0, 1],\n",
              "       [4, 4, 4, ..., 5, 4, 7],\n",
              "       [3, 3, 1, ..., 0, 8, 9],\n",
              "       ...,\n",
              "       [2, 3, 3, ..., 9, 4, 3],\n",
              "       [5, 5, 4, ..., 7, 6, 3],\n",
              "       [7, 3, 1, ..., 0, 4, 1]])"
            ]
          },
          "metadata": {},
          "execution_count": 3
        }
      ],
      "source": [
        "preds = (np.random.rand(num_teachers, num_examples) * num_labels).astype(int).transpose(1,0) # fake predictions\n",
        "preds"
      ]
    },
    {
      "cell_type": "code",
      "source": [
        "an_image = preds[:,0]\n",
        "an_image"
      ],
      "metadata": {
        "colab": {
          "base_uri": "https://localhost:8080/"
        },
        "id": "B_PpzdTScNNe",
        "outputId": "38b7c8e1-ec67-4943-854a-acd6159a6fd5"
      },
      "execution_count": 4,
      "outputs": [
        {
          "output_type": "execute_result",
          "data": {
            "text/plain": [
              "array([9, 4, 3, ..., 2, 5, 7])"
            ]
          },
          "metadata": {},
          "execution_count": 4
        }
      ]
    },
    {
      "cell_type": "code",
      "source": [
        "label_counts = np.bincount(an_image , minlength = num_labels)\n",
        "label_counts"
      ],
      "metadata": {
        "colab": {
          "base_uri": "https://localhost:8080/"
        },
        "id": "fW4q5AV7cRfp",
        "outputId": "9da2f89f-f0aa-46a6-de9d-385fd192e97c"
      },
      "execution_count": 9,
      "outputs": [
        {
          "output_type": "execute_result",
          "data": {
            "text/plain": [
              "array([ 954, 1043, 1008, 1016, 1024,  988, 1010,  972, 1041,  944])"
            ]
          },
          "metadata": {},
          "execution_count": 9
        }
      ]
    },
    {
      "cell_type": "code",
      "source": [
        "np.argmax(label_counts)"
      ],
      "metadata": {
        "colab": {
          "base_uri": "https://localhost:8080/"
        },
        "id": "k61L9lo5ccqo",
        "outputId": "78f3fc73-b9fc-48c7-bebf-33dd2f020359"
      },
      "execution_count": 10,
      "outputs": [
        {
          "output_type": "execute_result",
          "data": {
            "text/plain": [
              "1"
            ]
          },
          "metadata": {},
          "execution_count": 10
        }
      ]
    },
    {
      "cell_type": "code",
      "source": [
        "epsilon = 0.1\n",
        "beta = 1 / epsilon\n",
        "\n",
        "for i in range(len(label_counts)):\n",
        "    label_counts[i] += np.random.laplace(0, beta, 1)"
      ],
      "metadata": {
        "id": "Efj8YyhwctW3"
      },
      "execution_count": 11,
      "outputs": []
    },
    {
      "cell_type": "code",
      "source": [
        "label_counts"
      ],
      "metadata": {
        "colab": {
          "base_uri": "https://localhost:8080/"
        },
        "id": "oI2vpxw8c4pI",
        "outputId": "aacd8f41-0b81-43b0-9fe6-fef05f4e5d57"
      },
      "execution_count": 12,
      "outputs": [
        {
          "output_type": "execute_result",
          "data": {
            "text/plain": [
              "array([ 933, 1016, 1023, 1036, 1033,  980, 1018,  976, 1025,  960])"
            ]
          },
          "metadata": {},
          "execution_count": 12
        }
      ]
    },
    {
      "cell_type": "code",
      "source": [
        "np.argmax(label_counts)"
      ],
      "metadata": {
        "colab": {
          "base_uri": "https://localhost:8080/"
        },
        "id": "xDUvVq1_c8nP",
        "outputId": "3733a7d1-bfe9-47d0-a119-ee7c1fe6858b"
      },
      "execution_count": 13,
      "outputs": [
        {
          "output_type": "execute_result",
          "data": {
            "text/plain": [
              "3"
            ]
          },
          "metadata": {},
          "execution_count": 13
        }
      ]
    },
    {
      "cell_type": "code",
      "execution_count": 14,
      "metadata": {
        "id": "rqpShdBgfxH0"
      },
      "outputs": [],
      "source": [
        "new_labels = list()\n",
        "for an_image in preds:\n",
        "\n",
        "    label_counts = np.bincount(an_image, minlength=num_labels)\n",
        "\n",
        "    epsilon = 0.1\n",
        "    beta = 1 / epsilon\n",
        "\n",
        "    for i in range(len(label_counts)):\n",
        "        label_counts[i] += np.random.laplace(0, beta, 1)\n",
        "\n",
        "    new_label = np.argmax(label_counts)\n",
        "\n",
        "    new_labels.append(new_label)"
      ]
    },
    {
      "cell_type": "code",
      "execution_count": 17,
      "metadata": {
        "id": "zyJ5zcELfxH1",
        "colab": {
          "base_uri": "https://localhost:8080/"
        },
        "outputId": "d542f6ed-2133-4a79-dd5f-3d5173155ae3"
      },
      "outputs": [
        {
          "output_type": "execute_result",
          "data": {
            "text/plain": [
              "(10000, [2, 5, 3, 4, 2, 8, 7, 4, 6, 6])"
            ]
          },
          "metadata": {},
          "execution_count": 17
        }
      ],
      "source": [
        "len(new_labels) , new_labels[:10]"
      ]
    },
    {
      "cell_type": "markdown",
      "metadata": {
        "id": "Kzx_RSpIfxH1"
      },
      "source": [
        "# PATE Analysis"
      ]
    },
    {
      "cell_type": "code",
      "source": [
        "import numpy as np"
      ],
      "metadata": {
        "id": "P5wWGtTktnMx"
      },
      "execution_count": 1,
      "outputs": []
    },
    {
      "cell_type": "code",
      "execution_count": 2,
      "metadata": {
        "id": "MIXDT8sYfxH1",
        "outputId": "4c8e41ef-d665-4512-fc6f-774b2734bf0d",
        "colab": {
          "base_uri": "https://localhost:8080/"
        }
      },
      "outputs": [
        {
          "output_type": "execute_result",
          "data": {
            "text/plain": [
              "9"
            ]
          },
          "metadata": {},
          "execution_count": 2
        }
      ],
      "source": [
        "labels = np.array([9, 9, 3, 6, 9, 9, 9, 9, 8, 2])\n",
        "counts = np.bincount(labels, minlength=10)\n",
        "query_result = np.argmax(counts)\n",
        "query_result"
      ]
    },
    {
      "cell_type": "code",
      "source": [
        "!git clone https://github.com/OpenMined/PySyft.git\n",
        "!cd PySyft\n",
        "!python setup.py install\n",
        "!python setup.py test"
      ],
      "metadata": {
        "id": "apmqqBmptIqT"
      },
      "execution_count": null,
      "outputs": []
    },
    {
      "cell_type": "code",
      "source": [
        "!cd PySyft\n",
        "\n",
        "!python /content/PySyft/setup.py test"
      ],
      "metadata": {
        "colab": {
          "base_uri": "https://localhost:8080/"
        },
        "id": "YfWYvlLH1dYo",
        "outputId": "e284259b-ca06-4743-83bc-e2a176b27c01"
      },
      "execution_count": 13,
      "outputs": [
        {
          "output_type": "stream",
          "name": "stdout",
          "text": [
            "python3: can't open file '/content/PySyft/setup.py': [Errno 2] No such file or directory\n"
          ]
        }
      ]
    },
    {
      "cell_type": "code",
      "source": [
        "!pip install -U syft"
      ],
      "metadata": {
        "id": "Z8u-6m4F0sTI"
      },
      "execution_count": null,
      "outputs": []
    },
    {
      "cell_type": "code",
      "execution_count": null,
      "metadata": {
        "id": "b_ReAKTXfxH1"
      },
      "outputs": [],
      "source": [
        "# from syft.frameworks.torch.differential_privacy import pate\n",
        "import syft as sf\n",
        "from syft.frameworks.torch.dp import pate"
      ]
    },
    {
      "cell_type": "code",
      "execution_count": null,
      "metadata": {
        "id": "jlUSIfybfxH1"
      },
      "outputs": [],
      "source": [
        "num_teachers, num_examples, num_labels = (100, 100, 10)\n",
        "preds = (np.random.rand(num_teachers, num_examples) * num_labels).astype(int) #fake preds\n",
        "indices = (np.random.rand(num_examples) * num_labels).astype(int) # true answers\n",
        "\n",
        "preds[:,0:10] *= 0\n",
        "\n",
        "data_dep_eps, data_ind_eps = pate.perform_analysis(teacher_preds=preds, indices=indices, noise_eps=0.1, delta=1e-5)\n",
        "\n",
        "assert data_dep_eps < data_ind_eps"
      ]
    },
    {
      "cell_type": "code",
      "execution_count": null,
      "metadata": {
        "id": "op3tAb-mfxH1"
      },
      "outputs": [],
      "source": [
        "data_dep_eps, data_ind_eps = pate.perform_analysis(teacher_preds=preds, indices=indices, noise_eps=0.1, delta=1e-5)\n",
        "print(\"Data Independent Epsilon:\", data_ind_eps)\n",
        "print(\"Data Dependent Epsilon:\", data_dep_eps)"
      ]
    },
    {
      "cell_type": "code",
      "execution_count": null,
      "metadata": {
        "id": "pHAT7eIYfxH1"
      },
      "outputs": [],
      "source": [
        "preds[:,0:5] *= 0"
      ]
    },
    {
      "cell_type": "code",
      "execution_count": null,
      "metadata": {
        "id": "KW6XNYc_fxH1",
        "outputId": "92b591bd-3d87-4e59-c7f4-06bb08098ce8"
      },
      "outputs": [
        {
          "name": "stdout",
          "output_type": "stream",
          "text": [
            "Data Independent Epsilon: 11.756462732485115\n",
            "Data Dependent Epsilon: 0.9029013677789843\n"
          ]
        }
      ],
      "source": [
        "data_dep_eps, data_ind_eps = pate.perform_analysis(teacher_preds=preds, indices=indices, noise_eps=0.1, delta=1e-5, moments=20)\n",
        "print(\"Data Independent Epsilon:\", data_ind_eps)\n",
        "print(\"Data Dependent Epsilon:\", data_dep_eps)"
      ]
    },
    {
      "cell_type": "markdown",
      "metadata": {
        "id": "KdRPoaUvfxH2"
      },
      "source": [
        "# Where to Go From Here\n",
        "\n",
        "\n",
        "Read:\n",
        "- Algorithmic Foundations of Differential Privacy: https://www.cis.upenn.edu/~aaroth/Papers/privacybook.pdf\n",
        "- Deep Learning with Differential Privacy: https://arxiv.org/pdf/1607.00133.pdf\n",
        "- The Ethical Algorithm: https://www.amazon.com/Ethical-Algorithm-Science-Socially-Design/dp/0190948205\n",
        "   \n",
        "Topics:\n",
        "- The Exponential Mechanism\n",
        "- The Moment's Accountant\n",
        "- Differentially Private Stochastic Gradient Descent\n",
        "\n",
        "Advice:\n",
        "- For deployments - stick with public frameworks!\n",
        "- Join the Differential Privacy Community\n",
        "- Don't get ahead of yourself - DP is still in the early days"
      ]
    },
    {
      "cell_type": "code",
      "execution_count": null,
      "metadata": {
        "id": "3SaP3GWyfxH3"
      },
      "outputs": [],
      "source": []
    },
    {
      "cell_type": "code",
      "execution_count": null,
      "metadata": {
        "id": "uac-RtN7fxH3"
      },
      "outputs": [],
      "source": []
    },
    {
      "cell_type": "code",
      "execution_count": null,
      "metadata": {
        "id": "FoqEZObQfxH3"
      },
      "outputs": [],
      "source": []
    },
    {
      "cell_type": "code",
      "execution_count": null,
      "metadata": {
        "id": "ydOYHjU1fxH3"
      },
      "outputs": [],
      "source": []
    },
    {
      "cell_type": "code",
      "execution_count": null,
      "metadata": {
        "id": "Ko15mSzZfxH3"
      },
      "outputs": [],
      "source": []
    },
    {
      "cell_type": "markdown",
      "metadata": {
        "id": "NhRTVdPGfxH3"
      },
      "source": [
        "# Section Project:\n",
        "\n",
        "For the final project for this section, you're going to be given a dataset which you need to use to train a DP model using this PATE method."
      ]
    },
    {
      "cell_type": "code",
      "execution_count": null,
      "metadata": {
        "id": "YXc4jNQafxH3"
      },
      "outputs": [],
      "source": []
    },
    {
      "cell_type": "code",
      "source": [],
      "metadata": {
        "id": "P8fUzbgg4ym6"
      },
      "execution_count": null,
      "outputs": []
    },
    {
      "cell_type": "code",
      "source": [],
      "metadata": {
        "id": "3C0fUjQA4ykw"
      },
      "execution_count": null,
      "outputs": []
    },
    {
      "cell_type": "code",
      "source": [],
      "metadata": {
        "id": "ud_lwtlv4yiI"
      },
      "execution_count": null,
      "outputs": []
    },
    {
      "cell_type": "code",
      "source": [],
      "metadata": {
        "id": "wGZC-J6t4yfo"
      },
      "execution_count": null,
      "outputs": []
    },
    {
      "cell_type": "code",
      "source": [],
      "metadata": {
        "id": "K0LsEHPx4ydP"
      },
      "execution_count": null,
      "outputs": []
    }
  ],
  "metadata": {
    "kernelspec": {
      "display_name": "Python 3",
      "language": "python",
      "name": "python3"
    },
    "language_info": {
      "codemirror_mode": {
        "name": "ipython",
        "version": 3
      },
      "file_extension": ".py",
      "mimetype": "text/x-python",
      "name": "python",
      "nbconvert_exporter": "python",
      "pygments_lexer": "ipython3",
      "version": "3.6.1"
    },
    "colab": {
      "provenance": [],
      "include_colab_link": true
    }
  },
  "nbformat": 4,
  "nbformat_minor": 0
}